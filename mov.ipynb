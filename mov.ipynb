{
 "cells": [
  {
   "cell_type": "code",
   "id": "initial_id",
   "metadata": {
    "collapsed": true,
    "ExecuteTime": {
     "end_time": "2025-04-23T10:45:02.266253Z",
     "start_time": "2025-04-23T10:45:02.263865Z"
    }
   },
   "source": [
    "from threading import ThreadError\n",
    "\n",
    "import pandas as pd\n",
    "import numpy as np\n",
    "import os"
   ],
   "outputs": [],
   "execution_count": 7
  },
  {
   "metadata": {},
   "cell_type": "markdown",
   "source": "Đầu tiên chúng ta đọc và kiểm tra dữ liệu từ file movies.csv",
   "id": "ecf8bf0f2255819"
  },
  {
   "metadata": {
    "ExecuteTime": {
     "end_time": "2025-04-23T10:45:03.754280Z",
     "start_time": "2025-04-23T10:45:03.690438Z"
    }
   },
   "cell_type": "code",
   "source": "movies = pd.read_csv(os.path.join(\"data2\", \"movies.csv\"), encoding=\"UTF-8\")",
   "id": "a7eda81366dd3a69",
   "outputs": [],
   "execution_count": 8
  },
  {
   "metadata": {
    "ExecuteTime": {
     "end_time": "2025-04-23T10:45:04.181024Z",
     "start_time": "2025-04-23T10:45:04.173258Z"
    }
   },
   "cell_type": "code",
   "source": "movies.head()",
   "id": "9668d70ac217db84",
   "outputs": [
    {
     "data": {
      "text/plain": [
       "   movieId                               title  \\\n",
       "0        1                    Toy Story (1995)   \n",
       "1        2                      Jumanji (1995)   \n",
       "2        3             Grumpier Old Men (1995)   \n",
       "3        4            Waiting to Exhale (1995)   \n",
       "4        5  Father of the Bride Part II (1995)   \n",
       "\n",
       "                                        genres  \n",
       "0  Adventure|Animation|Children|Comedy|Fantasy  \n",
       "1                   Adventure|Children|Fantasy  \n",
       "2                               Comedy|Romance  \n",
       "3                         Comedy|Drama|Romance  \n",
       "4                                       Comedy  "
      ],
      "text/html": [
       "<div>\n",
       "<style scoped>\n",
       "    .dataframe tbody tr th:only-of-type {\n",
       "        vertical-align: middle;\n",
       "    }\n",
       "\n",
       "    .dataframe tbody tr th {\n",
       "        vertical-align: top;\n",
       "    }\n",
       "\n",
       "    .dataframe thead th {\n",
       "        text-align: right;\n",
       "    }\n",
       "</style>\n",
       "<table border=\"1\" class=\"dataframe\">\n",
       "  <thead>\n",
       "    <tr style=\"text-align: right;\">\n",
       "      <th></th>\n",
       "      <th>movieId</th>\n",
       "      <th>title</th>\n",
       "      <th>genres</th>\n",
       "    </tr>\n",
       "  </thead>\n",
       "  <tbody>\n",
       "    <tr>\n",
       "      <th>0</th>\n",
       "      <td>1</td>\n",
       "      <td>Toy Story (1995)</td>\n",
       "      <td>Adventure|Animation|Children|Comedy|Fantasy</td>\n",
       "    </tr>\n",
       "    <tr>\n",
       "      <th>1</th>\n",
       "      <td>2</td>\n",
       "      <td>Jumanji (1995)</td>\n",
       "      <td>Adventure|Children|Fantasy</td>\n",
       "    </tr>\n",
       "    <tr>\n",
       "      <th>2</th>\n",
       "      <td>3</td>\n",
       "      <td>Grumpier Old Men (1995)</td>\n",
       "      <td>Comedy|Romance</td>\n",
       "    </tr>\n",
       "    <tr>\n",
       "      <th>3</th>\n",
       "      <td>4</td>\n",
       "      <td>Waiting to Exhale (1995)</td>\n",
       "      <td>Comedy|Drama|Romance</td>\n",
       "    </tr>\n",
       "    <tr>\n",
       "      <th>4</th>\n",
       "      <td>5</td>\n",
       "      <td>Father of the Bride Part II (1995)</td>\n",
       "      <td>Comedy</td>\n",
       "    </tr>\n",
       "  </tbody>\n",
       "</table>\n",
       "</div>"
      ]
     },
     "execution_count": 9,
     "metadata": {},
     "output_type": "execute_result"
    }
   ],
   "execution_count": 9
  },
  {
   "metadata": {},
   "cell_type": "markdown",
   "source": "Nhìn có vẻ ổn nhưng ở một vài phim bắt đầu bằng The, như The Avengers (2012) sẽ có một lỗi nhỏ như sau",
   "id": "33084341760024cf"
  },
  {
   "metadata": {
    "ExecuteTime": {
     "end_time": "2025-04-23T10:45:05.358695Z",
     "start_time": "2025-04-23T10:45:05.353054Z"
    }
   },
   "cell_type": "code",
   "source": "movies[movies['movieId'] == 89745]",
   "id": "e27e0afc05fc34d2",
   "outputs": [
    {
     "data": {
      "text/plain": [
       "       movieId                 title                        genres\n",
       "17071    89745  Avengers, The (2012)  Action|Adventure|Sci-Fi|IMAX"
      ],
      "text/html": [
       "<div>\n",
       "<style scoped>\n",
       "    .dataframe tbody tr th:only-of-type {\n",
       "        vertical-align: middle;\n",
       "    }\n",
       "\n",
       "    .dataframe tbody tr th {\n",
       "        vertical-align: top;\n",
       "    }\n",
       "\n",
       "    .dataframe thead th {\n",
       "        text-align: right;\n",
       "    }\n",
       "</style>\n",
       "<table border=\"1\" class=\"dataframe\">\n",
       "  <thead>\n",
       "    <tr style=\"text-align: right;\">\n",
       "      <th></th>\n",
       "      <th>movieId</th>\n",
       "      <th>title</th>\n",
       "      <th>genres</th>\n",
       "    </tr>\n",
       "  </thead>\n",
       "  <tbody>\n",
       "    <tr>\n",
       "      <th>17071</th>\n",
       "      <td>89745</td>\n",
       "      <td>Avengers, The (2012)</td>\n",
       "      <td>Action|Adventure|Sci-Fi|IMAX</td>\n",
       "    </tr>\n",
       "  </tbody>\n",
       "</table>\n",
       "</div>"
      ]
     },
     "execution_count": 10,
     "metadata": {},
     "output_type": "execute_result"
    }
   ],
   "execution_count": 10
  },
  {
   "metadata": {},
   "cell_type": "markdown",
   "source": "Có thể thấy, Title của The Avengers bị đổi thành Avengers, nên chúng ta sẽ tạo một hàm để sửa nó, Có 2 loại title, một là có số năm còn lại là không có, nên chúng ta phải sửa cho từng loại riêng nhau",
   "id": "215de132a8bffaac"
  },
  {
   "metadata": {
    "ExecuteTime": {
     "end_time": "2025-04-23T10:45:05.960265Z",
     "start_time": "2025-04-23T10:45:05.957285Z"
    }
   },
   "cell_type": "code",
   "source": [
    "import re\n",
    "def fix_the_title(title):\n",
    "    pattern_with_year = r'^(.+), The \\((\\d{4})\\)$'\n",
    "    pattern_without_year = r'^(.+), The$'\n",
    "    match_with_year = re.match(pattern_with_year, title)\n",
    "    if match_with_year:\n",
    "        movie_name = match_with_year.group(1).strip()\n",
    "        year = match_with_year.group(2)\n",
    "        return f\"The {movie_name} ({year})\"\n",
    "    match_without_year = re.match(pattern_without_year, title)\n",
    "    if match_without_year:\n",
    "        movie_name = match_without_year.group(1).strip()\n",
    "        return f\"The {movie_name}\"\n",
    "    return title"
   ],
   "id": "8024dfda60742d74",
   "outputs": [],
   "execution_count": 11
  },
  {
   "metadata": {},
   "cell_type": "markdown",
   "source": "Giờ chúng ta áp dụng nó vào dataframe đã tạo",
   "id": "82733204d1d3008"
  },
  {
   "metadata": {
    "ExecuteTime": {
     "end_time": "2025-04-23T10:45:06.626962Z",
     "start_time": "2025-04-23T10:45:06.508842Z"
    }
   },
   "cell_type": "code",
   "source": [
    "movies['title'] = movies['title'].apply(fix_the_title)\n",
    "movies[movies['movieId'] == 89745]"
   ],
   "id": "223e3f0341f3e996",
   "outputs": [
    {
     "data": {
      "text/plain": [
       "       movieId                title                        genres\n",
       "17071    89745  The Avengers (2012)  Action|Adventure|Sci-Fi|IMAX"
      ],
      "text/html": [
       "<div>\n",
       "<style scoped>\n",
       "    .dataframe tbody tr th:only-of-type {\n",
       "        vertical-align: middle;\n",
       "    }\n",
       "\n",
       "    .dataframe tbody tr th {\n",
       "        vertical-align: top;\n",
       "    }\n",
       "\n",
       "    .dataframe thead th {\n",
       "        text-align: right;\n",
       "    }\n",
       "</style>\n",
       "<table border=\"1\" class=\"dataframe\">\n",
       "  <thead>\n",
       "    <tr style=\"text-align: right;\">\n",
       "      <th></th>\n",
       "      <th>movieId</th>\n",
       "      <th>title</th>\n",
       "      <th>genres</th>\n",
       "    </tr>\n",
       "  </thead>\n",
       "  <tbody>\n",
       "    <tr>\n",
       "      <th>17071</th>\n",
       "      <td>89745</td>\n",
       "      <td>The Avengers (2012)</td>\n",
       "      <td>Action|Adventure|Sci-Fi|IMAX</td>\n",
       "    </tr>\n",
       "  </tbody>\n",
       "</table>\n",
       "</div>"
      ]
     },
     "execution_count": 12,
     "metadata": {},
     "output_type": "execute_result"
    }
   ],
   "execution_count": 12
  },
  {
   "metadata": {},
   "cell_type": "markdown",
   "source": "Thành công, tiếp theo chúng ta kiểm tra dữ liệu của file ratings.csv, file này chứa các cột về đánh giá phim của id người dùng. Cột timestamp để thể hiện thời điểm người dùng đánh giá, nó là số giây từ ngày 1 tháng 1 năm 1970 ở giờ UTC",
   "id": "841e3b403989345f"
  },
  {
   "metadata": {
    "ExecuteTime": {
     "end_time": "2025-04-23T10:45:14.776885Z",
     "start_time": "2025-04-23T10:45:06.946709Z"
    }
   },
   "cell_type": "code",
   "source": [
    "ratings = pd.read_csv(os.path.join(\"data2\", \"ratings.csv\"), encoding=\"UTF-8\")\n",
    "ratings.head()"
   ],
   "id": "a14b34b85acdd28e",
   "outputs": [
    {
     "data": {
      "text/plain": [
       "   userId  movieId  rating  timestamp\n",
       "0       1       17     4.0  944249077\n",
       "1       1       25     1.0  944250228\n",
       "2       1       29     2.0  943230976\n",
       "3       1       30     5.0  944249077\n",
       "4       1       32     5.0  943228858"
      ],
      "text/html": [
       "<div>\n",
       "<style scoped>\n",
       "    .dataframe tbody tr th:only-of-type {\n",
       "        vertical-align: middle;\n",
       "    }\n",
       "\n",
       "    .dataframe tbody tr th {\n",
       "        vertical-align: top;\n",
       "    }\n",
       "\n",
       "    .dataframe thead th {\n",
       "        text-align: right;\n",
       "    }\n",
       "</style>\n",
       "<table border=\"1\" class=\"dataframe\">\n",
       "  <thead>\n",
       "    <tr style=\"text-align: right;\">\n",
       "      <th></th>\n",
       "      <th>userId</th>\n",
       "      <th>movieId</th>\n",
       "      <th>rating</th>\n",
       "      <th>timestamp</th>\n",
       "    </tr>\n",
       "  </thead>\n",
       "  <tbody>\n",
       "    <tr>\n",
       "      <th>0</th>\n",
       "      <td>1</td>\n",
       "      <td>17</td>\n",
       "      <td>4.0</td>\n",
       "      <td>944249077</td>\n",
       "    </tr>\n",
       "    <tr>\n",
       "      <th>1</th>\n",
       "      <td>1</td>\n",
       "      <td>25</td>\n",
       "      <td>1.0</td>\n",
       "      <td>944250228</td>\n",
       "    </tr>\n",
       "    <tr>\n",
       "      <th>2</th>\n",
       "      <td>1</td>\n",
       "      <td>29</td>\n",
       "      <td>2.0</td>\n",
       "      <td>943230976</td>\n",
       "    </tr>\n",
       "    <tr>\n",
       "      <th>3</th>\n",
       "      <td>1</td>\n",
       "      <td>30</td>\n",
       "      <td>5.0</td>\n",
       "      <td>944249077</td>\n",
       "    </tr>\n",
       "    <tr>\n",
       "      <th>4</th>\n",
       "      <td>1</td>\n",
       "      <td>32</td>\n",
       "      <td>5.0</td>\n",
       "      <td>943228858</td>\n",
       "    </tr>\n",
       "  </tbody>\n",
       "</table>\n",
       "</div>"
      ]
     },
     "execution_count": 13,
     "metadata": {},
     "output_type": "execute_result"
    }
   ],
   "execution_count": 13
  },
  {
   "metadata": {},
   "cell_type": "markdown",
   "source": "Chúng ta sẽ bỏ cột timestamp vì nó không cần thiết và merge với df movies",
   "id": "259268da7d606018"
  },
  {
   "metadata": {
    "ExecuteTime": {
     "end_time": "2025-04-23T10:45:15.335025Z",
     "start_time": "2025-04-23T10:45:14.803131Z"
    }
   },
   "cell_type": "code",
   "source": [
    "ratings.drop('timestamp', inplace=True, axis=1)\n",
    "ratings.dropna(inplace=True)"
   ],
   "id": "a6274484ec8dca2f",
   "outputs": [],
   "execution_count": 14
  },
  {
   "metadata": {},
   "cell_type": "markdown",
   "source": "Bởi vì ratings chứa dữ liệu là data đánh giá của từng người dùng nên chúng ta phải group by nó bằng movie id để có thể gộp với df movies. Đồng thời tạo cột avg_rating tính điểm đánh giá trung bình của từng phim. UserID sẽ được dùng để đếm số lượt đánh giá",
   "id": "2211ab5a1003a2a1"
  },
  {
   "metadata": {
    "ExecuteTime": {
     "end_time": "2025-04-23T10:45:16.193484Z",
     "start_time": "2025-04-23T10:45:15.365250Z"
    }
   },
   "cell_type": "code",
   "source": [
    "ratings_summary = ratings.groupby('movieId').agg({'rating': 'mean', 'userId': 'count'}).rename(\n",
    "    columns={'rating': 'avg_rating', 'userId': 'num_votes'})\n",
    "ratings_summary.head()"
   ],
   "id": "3b7006ae8c393203",
   "outputs": [
    {
     "data": {
      "text/plain": [
       "         avg_rating  num_votes\n",
       "movieId                       \n",
       "1          3.897438      68997\n",
       "2          3.275758      28904\n",
       "3          3.139447      13134\n",
       "4          2.845331       2806\n",
       "5          3.059602      13154"
      ],
      "text/html": [
       "<div>\n",
       "<style scoped>\n",
       "    .dataframe tbody tr th:only-of-type {\n",
       "        vertical-align: middle;\n",
       "    }\n",
       "\n",
       "    .dataframe tbody tr th {\n",
       "        vertical-align: top;\n",
       "    }\n",
       "\n",
       "    .dataframe thead th {\n",
       "        text-align: right;\n",
       "    }\n",
       "</style>\n",
       "<table border=\"1\" class=\"dataframe\">\n",
       "  <thead>\n",
       "    <tr style=\"text-align: right;\">\n",
       "      <th></th>\n",
       "      <th>avg_rating</th>\n",
       "      <th>num_votes</th>\n",
       "    </tr>\n",
       "    <tr>\n",
       "      <th>movieId</th>\n",
       "      <th></th>\n",
       "      <th></th>\n",
       "    </tr>\n",
       "  </thead>\n",
       "  <tbody>\n",
       "    <tr>\n",
       "      <th>1</th>\n",
       "      <td>3.897438</td>\n",
       "      <td>68997</td>\n",
       "    </tr>\n",
       "    <tr>\n",
       "      <th>2</th>\n",
       "      <td>3.275758</td>\n",
       "      <td>28904</td>\n",
       "    </tr>\n",
       "    <tr>\n",
       "      <th>3</th>\n",
       "      <td>3.139447</td>\n",
       "      <td>13134</td>\n",
       "    </tr>\n",
       "    <tr>\n",
       "      <th>4</th>\n",
       "      <td>2.845331</td>\n",
       "      <td>2806</td>\n",
       "    </tr>\n",
       "    <tr>\n",
       "      <th>5</th>\n",
       "      <td>3.059602</td>\n",
       "      <td>13154</td>\n",
       "    </tr>\n",
       "  </tbody>\n",
       "</table>\n",
       "</div>"
      ]
     },
     "execution_count": 15,
     "metadata": {},
     "output_type": "execute_result"
    }
   ],
   "execution_count": 15
  },
  {
   "metadata": {
    "ExecuteTime": {
     "end_time": "2025-04-23T10:45:16.227624Z",
     "start_time": "2025-04-23T10:45:16.217861Z"
    }
   },
   "cell_type": "code",
   "source": "movies = movies.merge(ratings_summary, on='movieId', how='left')",
   "id": "4666eeb8fd67bc7c",
   "outputs": [],
   "execution_count": 16
  },
  {
   "metadata": {
    "ExecuteTime": {
     "end_time": "2025-04-23T10:45:16.276349Z",
     "start_time": "2025-04-23T10:45:16.270836Z"
    }
   },
   "cell_type": "code",
   "source": "movies.head()",
   "id": "551b84c5d9c0628d",
   "outputs": [
    {
     "data": {
      "text/plain": [
       "   movieId                               title  \\\n",
       "0        1                    Toy Story (1995)   \n",
       "1        2                      Jumanji (1995)   \n",
       "2        3             Grumpier Old Men (1995)   \n",
       "3        4            Waiting to Exhale (1995)   \n",
       "4        5  Father of the Bride Part II (1995)   \n",
       "\n",
       "                                        genres  avg_rating  num_votes  \n",
       "0  Adventure|Animation|Children|Comedy|Fantasy    3.897438    68997.0  \n",
       "1                   Adventure|Children|Fantasy    3.275758    28904.0  \n",
       "2                               Comedy|Romance    3.139447    13134.0  \n",
       "3                         Comedy|Drama|Romance    2.845331     2806.0  \n",
       "4                                       Comedy    3.059602    13154.0  "
      ],
      "text/html": [
       "<div>\n",
       "<style scoped>\n",
       "    .dataframe tbody tr th:only-of-type {\n",
       "        vertical-align: middle;\n",
       "    }\n",
       "\n",
       "    .dataframe tbody tr th {\n",
       "        vertical-align: top;\n",
       "    }\n",
       "\n",
       "    .dataframe thead th {\n",
       "        text-align: right;\n",
       "    }\n",
       "</style>\n",
       "<table border=\"1\" class=\"dataframe\">\n",
       "  <thead>\n",
       "    <tr style=\"text-align: right;\">\n",
       "      <th></th>\n",
       "      <th>movieId</th>\n",
       "      <th>title</th>\n",
       "      <th>genres</th>\n",
       "      <th>avg_rating</th>\n",
       "      <th>num_votes</th>\n",
       "    </tr>\n",
       "  </thead>\n",
       "  <tbody>\n",
       "    <tr>\n",
       "      <th>0</th>\n",
       "      <td>1</td>\n",
       "      <td>Toy Story (1995)</td>\n",
       "      <td>Adventure|Animation|Children|Comedy|Fantasy</td>\n",
       "      <td>3.897438</td>\n",
       "      <td>68997.0</td>\n",
       "    </tr>\n",
       "    <tr>\n",
       "      <th>1</th>\n",
       "      <td>2</td>\n",
       "      <td>Jumanji (1995)</td>\n",
       "      <td>Adventure|Children|Fantasy</td>\n",
       "      <td>3.275758</td>\n",
       "      <td>28904.0</td>\n",
       "    </tr>\n",
       "    <tr>\n",
       "      <th>2</th>\n",
       "      <td>3</td>\n",
       "      <td>Grumpier Old Men (1995)</td>\n",
       "      <td>Comedy|Romance</td>\n",
       "      <td>3.139447</td>\n",
       "      <td>13134.0</td>\n",
       "    </tr>\n",
       "    <tr>\n",
       "      <th>3</th>\n",
       "      <td>4</td>\n",
       "      <td>Waiting to Exhale (1995)</td>\n",
       "      <td>Comedy|Drama|Romance</td>\n",
       "      <td>2.845331</td>\n",
       "      <td>2806.0</td>\n",
       "    </tr>\n",
       "    <tr>\n",
       "      <th>4</th>\n",
       "      <td>5</td>\n",
       "      <td>Father of the Bride Part II (1995)</td>\n",
       "      <td>Comedy</td>\n",
       "      <td>3.059602</td>\n",
       "      <td>13154.0</td>\n",
       "    </tr>\n",
       "  </tbody>\n",
       "</table>\n",
       "</div>"
      ]
     },
     "execution_count": 17,
     "metadata": {},
     "output_type": "execute_result"
    }
   ],
   "execution_count": 17
  },
  {
   "metadata": {},
   "cell_type": "markdown",
   "source": "Tiếp theo là file tag, chứa các thông tin về các đặc điểm của phim do người dùng tự đánh giá, không giống phần genres vì người dùng tự tạo nên có thể có các thông tin rõ ràng hơn",
   "id": "de1f1fda526de6d3"
  },
  {
   "metadata": {
    "ExecuteTime": {
     "end_time": "2025-04-23T10:45:17.111072Z",
     "start_time": "2025-04-23T10:45:16.339015Z"
    }
   },
   "cell_type": "code",
   "source": [
    "tags = pd.read_csv(os.path.join(\"data2\", \"tags.csv\"), encoding=\"UTF-8\")\n",
    "tags.head()"
   ],
   "id": "1f96c719b9207fc7",
   "outputs": [
    {
     "data": {
      "text/plain": [
       "   userId  movieId          tag   timestamp\n",
       "0      22    26479  Kevin Kline  1583038886\n",
       "1      22    79592     misogyny  1581476297\n",
       "2      22   247150   acrophobia  1622483469\n",
       "3      34     2174        music  1249808064\n",
       "4      34     2174        weird  1249808102"
      ],
      "text/html": [
       "<div>\n",
       "<style scoped>\n",
       "    .dataframe tbody tr th:only-of-type {\n",
       "        vertical-align: middle;\n",
       "    }\n",
       "\n",
       "    .dataframe tbody tr th {\n",
       "        vertical-align: top;\n",
       "    }\n",
       "\n",
       "    .dataframe thead th {\n",
       "        text-align: right;\n",
       "    }\n",
       "</style>\n",
       "<table border=\"1\" class=\"dataframe\">\n",
       "  <thead>\n",
       "    <tr style=\"text-align: right;\">\n",
       "      <th></th>\n",
       "      <th>userId</th>\n",
       "      <th>movieId</th>\n",
       "      <th>tag</th>\n",
       "      <th>timestamp</th>\n",
       "    </tr>\n",
       "  </thead>\n",
       "  <tbody>\n",
       "    <tr>\n",
       "      <th>0</th>\n",
       "      <td>22</td>\n",
       "      <td>26479</td>\n",
       "      <td>Kevin Kline</td>\n",
       "      <td>1583038886</td>\n",
       "    </tr>\n",
       "    <tr>\n",
       "      <th>1</th>\n",
       "      <td>22</td>\n",
       "      <td>79592</td>\n",
       "      <td>misogyny</td>\n",
       "      <td>1581476297</td>\n",
       "    </tr>\n",
       "    <tr>\n",
       "      <th>2</th>\n",
       "      <td>22</td>\n",
       "      <td>247150</td>\n",
       "      <td>acrophobia</td>\n",
       "      <td>1622483469</td>\n",
       "    </tr>\n",
       "    <tr>\n",
       "      <th>3</th>\n",
       "      <td>34</td>\n",
       "      <td>2174</td>\n",
       "      <td>music</td>\n",
       "      <td>1249808064</td>\n",
       "    </tr>\n",
       "    <tr>\n",
       "      <th>4</th>\n",
       "      <td>34</td>\n",
       "      <td>2174</td>\n",
       "      <td>weird</td>\n",
       "      <td>1249808102</td>\n",
       "    </tr>\n",
       "  </tbody>\n",
       "</table>\n",
       "</div>"
      ]
     },
     "execution_count": 18,
     "metadata": {},
     "output_type": "execute_result"
    }
   ],
   "execution_count": 18
  },
  {
   "metadata": {
    "ExecuteTime": {
     "end_time": "2025-04-23T10:45:17.158394Z",
     "start_time": "2025-04-23T10:45:17.131113Z"
    }
   },
   "cell_type": "code",
   "source": "tags.drop('timestamp', inplace=True, axis=1)",
   "id": "c5fdc7a3e61eb53d",
   "outputs": [],
   "execution_count": 19
  },
  {
   "metadata": {
    "ExecuteTime": {
     "end_time": "2025-04-23T10:45:17.247663Z",
     "start_time": "2025-04-23T10:45:17.243494Z"
    }
   },
   "cell_type": "code",
   "source": "tags.head()",
   "id": "ebe55d5d32fe78c0",
   "outputs": [
    {
     "data": {
      "text/plain": [
       "   userId  movieId          tag\n",
       "0      22    26479  Kevin Kline\n",
       "1      22    79592     misogyny\n",
       "2      22   247150   acrophobia\n",
       "3      34     2174        music\n",
       "4      34     2174        weird"
      ],
      "text/html": [
       "<div>\n",
       "<style scoped>\n",
       "    .dataframe tbody tr th:only-of-type {\n",
       "        vertical-align: middle;\n",
       "    }\n",
       "\n",
       "    .dataframe tbody tr th {\n",
       "        vertical-align: top;\n",
       "    }\n",
       "\n",
       "    .dataframe thead th {\n",
       "        text-align: right;\n",
       "    }\n",
       "</style>\n",
       "<table border=\"1\" class=\"dataframe\">\n",
       "  <thead>\n",
       "    <tr style=\"text-align: right;\">\n",
       "      <th></th>\n",
       "      <th>userId</th>\n",
       "      <th>movieId</th>\n",
       "      <th>tag</th>\n",
       "    </tr>\n",
       "  </thead>\n",
       "  <tbody>\n",
       "    <tr>\n",
       "      <th>0</th>\n",
       "      <td>22</td>\n",
       "      <td>26479</td>\n",
       "      <td>Kevin Kline</td>\n",
       "    </tr>\n",
       "    <tr>\n",
       "      <th>1</th>\n",
       "      <td>22</td>\n",
       "      <td>79592</td>\n",
       "      <td>misogyny</td>\n",
       "    </tr>\n",
       "    <tr>\n",
       "      <th>2</th>\n",
       "      <td>22</td>\n",
       "      <td>247150</td>\n",
       "      <td>acrophobia</td>\n",
       "    </tr>\n",
       "    <tr>\n",
       "      <th>3</th>\n",
       "      <td>34</td>\n",
       "      <td>2174</td>\n",
       "      <td>music</td>\n",
       "    </tr>\n",
       "    <tr>\n",
       "      <th>4</th>\n",
       "      <td>34</td>\n",
       "      <td>2174</td>\n",
       "      <td>weird</td>\n",
       "    </tr>\n",
       "  </tbody>\n",
       "</table>\n",
       "</div>"
      ]
     },
     "execution_count": 20,
     "metadata": {},
     "output_type": "execute_result"
    }
   ],
   "execution_count": 20
  },
  {
   "metadata": {},
   "cell_type": "markdown",
   "source": "Có một số tags được người dùng viết bằng ngôn ngữ khác như sau",
   "id": "e3860f659b1fda8c"
  },
  {
   "metadata": {
    "ExecuteTime": {
     "end_time": "2025-04-23T10:45:17.298913Z",
     "start_time": "2025-04-23T10:45:17.289880Z"
    }
   },
   "cell_type": "code",
   "source": "tags[(tags['userId'] == 3033) & (tags['movieId'] == 3)]",
   "id": "38c2d12bd3674305",
   "outputs": [
    {
     "data": {
      "text/plain": [
       "       userId  movieId                                  tag\n",
       "16946    3033        3  comedinha de velhinhos engraÃƒÂ§ada"
      ],
      "text/html": [
       "<div>\n",
       "<style scoped>\n",
       "    .dataframe tbody tr th:only-of-type {\n",
       "        vertical-align: middle;\n",
       "    }\n",
       "\n",
       "    .dataframe tbody tr th {\n",
       "        vertical-align: top;\n",
       "    }\n",
       "\n",
       "    .dataframe thead th {\n",
       "        text-align: right;\n",
       "    }\n",
       "</style>\n",
       "<table border=\"1\" class=\"dataframe\">\n",
       "  <thead>\n",
       "    <tr style=\"text-align: right;\">\n",
       "      <th></th>\n",
       "      <th>userId</th>\n",
       "      <th>movieId</th>\n",
       "      <th>tag</th>\n",
       "    </tr>\n",
       "  </thead>\n",
       "  <tbody>\n",
       "    <tr>\n",
       "      <th>16946</th>\n",
       "      <td>3033</td>\n",
       "      <td>3</td>\n",
       "      <td>comedinha de velhinhos engraÃƒÂ§ada</td>\n",
       "    </tr>\n",
       "  </tbody>\n",
       "</table>\n",
       "</div>"
      ]
     },
     "execution_count": 21,
     "metadata": {},
     "output_type": "execute_result"
    }
   ],
   "execution_count": 21
  },
  {
   "metadata": {},
   "cell_type": "markdown",
   "source": "Có thể thấy lỗi font rõ ràng cho dù chúng ta đã dùng encoding = UTF-8 khi tạo df, nên chúng ta sẽ tạo hàm để sửa nó",
   "id": "9a17f94116ce4419"
  },
  {
   "metadata": {
    "ExecuteTime": {
     "end_time": "2025-04-23T10:45:17.548268Z",
     "start_time": "2025-04-23T10:45:17.395541Z"
    }
   },
   "cell_type": "code",
   "source": [
    "import ftfy\n",
    "def fix_encoding(text):\n",
    "    if pd.isna(text):\n",
    "        return \"\"\n",
    "    fixed_text = ftfy.fix_text(str(text))\n",
    "    fixed_text = re.sub(r'[^\\x00-\\x7F\\u00C0-\\u017F]', '', fixed_text)\n",
    "    return fixed_text.strip()"
   ],
   "id": "8d08d50b8d69b428",
   "outputs": [],
   "execution_count": 22
  },
  {
   "metadata": {},
   "cell_type": "markdown",
   "source": "Áp dụng nó vào df tags",
   "id": "8b4633db0bf71da5"
  },
  {
   "metadata": {
    "ExecuteTime": {
     "end_time": "2025-04-23T10:45:48.371970Z",
     "start_time": "2025-04-23T10:45:17.630524Z"
    }
   },
   "cell_type": "code",
   "source": [
    "tags['tag'] = tags['tag'].apply(fix_encoding)\n",
    "tags[(tags['userId'] == 3033) & (tags['movieId'] == 3)]"
   ],
   "id": "20b29eaeef360bb3",
   "outputs": [
    {
     "data": {
      "text/plain": [
       "       userId  movieId                               tag\n",
       "16946    3033        3  comedinha de velhinhos engraçada"
      ],
      "text/html": [
       "<div>\n",
       "<style scoped>\n",
       "    .dataframe tbody tr th:only-of-type {\n",
       "        vertical-align: middle;\n",
       "    }\n",
       "\n",
       "    .dataframe tbody tr th {\n",
       "        vertical-align: top;\n",
       "    }\n",
       "\n",
       "    .dataframe thead th {\n",
       "        text-align: right;\n",
       "    }\n",
       "</style>\n",
       "<table border=\"1\" class=\"dataframe\">\n",
       "  <thead>\n",
       "    <tr style=\"text-align: right;\">\n",
       "      <th></th>\n",
       "      <th>userId</th>\n",
       "      <th>movieId</th>\n",
       "      <th>tag</th>\n",
       "    </tr>\n",
       "  </thead>\n",
       "  <tbody>\n",
       "    <tr>\n",
       "      <th>16946</th>\n",
       "      <td>3033</td>\n",
       "      <td>3</td>\n",
       "      <td>comedinha de velhinhos engraçada</td>\n",
       "    </tr>\n",
       "  </tbody>\n",
       "</table>\n",
       "</div>"
      ]
     },
     "execution_count": 23,
     "metadata": {},
     "output_type": "execute_result"
    }
   ],
   "execution_count": 23
  },
  {
   "metadata": {},
   "cell_type": "markdown",
   "source": "Chúng ta cũng sẽ group by movieId để có thể merge lại, đồng thời gộp tất cả tag của một phim thành một hàng, có một vài tag có thể chỉ là số năm như các phim tài liệu nên chúng ta sẽ phải chuyển tất cả thành type string",
   "id": "b7368e695e887458"
  },
  {
   "metadata": {
    "ExecuteTime": {
     "end_time": "2025-04-23T10:45:49.246787Z",
     "start_time": "2025-04-23T10:45:48.396913Z"
    }
   },
   "cell_type": "code",
   "source": [
    "tags['tag'] = tags['tag'].astype(str)\n",
    "tags_grouped = tags.groupby('movieId')['tag'].apply(lambda x: \" \".join(x)).reset_index()"
   ],
   "id": "72cef1e65b97fd58",
   "outputs": [],
   "execution_count": 24
  },
  {
   "metadata": {
    "ExecuteTime": {
     "end_time": "2025-04-23T10:45:49.271650Z",
     "start_time": "2025-04-23T10:45:49.267412Z"
    }
   },
   "cell_type": "code",
   "source": "tags_grouped.head()",
   "id": "58da5b6614d9b4c8",
   "outputs": [
    {
     "data": {
      "text/plain": [
       "   movieId                                                tag\n",
       "0        1  children Disney animation children Disney Disn...\n",
       "1        2  Robin Williams fantasy Robin Williams time tra...\n",
       "2        3  comedinha de velhinhos engraçada comedinha de ...\n",
       "3        4  characters slurs based on novel or book chick ...\n",
       "4        5  Fantasy pregnancy remake family Steve Martin s..."
      ],
      "text/html": [
       "<div>\n",
       "<style scoped>\n",
       "    .dataframe tbody tr th:only-of-type {\n",
       "        vertical-align: middle;\n",
       "    }\n",
       "\n",
       "    .dataframe tbody tr th {\n",
       "        vertical-align: top;\n",
       "    }\n",
       "\n",
       "    .dataframe thead th {\n",
       "        text-align: right;\n",
       "    }\n",
       "</style>\n",
       "<table border=\"1\" class=\"dataframe\">\n",
       "  <thead>\n",
       "    <tr style=\"text-align: right;\">\n",
       "      <th></th>\n",
       "      <th>movieId</th>\n",
       "      <th>tag</th>\n",
       "    </tr>\n",
       "  </thead>\n",
       "  <tbody>\n",
       "    <tr>\n",
       "      <th>0</th>\n",
       "      <td>1</td>\n",
       "      <td>children Disney animation children Disney Disn...</td>\n",
       "    </tr>\n",
       "    <tr>\n",
       "      <th>1</th>\n",
       "      <td>2</td>\n",
       "      <td>Robin Williams fantasy Robin Williams time tra...</td>\n",
       "    </tr>\n",
       "    <tr>\n",
       "      <th>2</th>\n",
       "      <td>3</td>\n",
       "      <td>comedinha de velhinhos engraçada comedinha de ...</td>\n",
       "    </tr>\n",
       "    <tr>\n",
       "      <th>3</th>\n",
       "      <td>4</td>\n",
       "      <td>characters slurs based on novel or book chick ...</td>\n",
       "    </tr>\n",
       "    <tr>\n",
       "      <th>4</th>\n",
       "      <td>5</td>\n",
       "      <td>Fantasy pregnancy remake family Steve Martin s...</td>\n",
       "    </tr>\n",
       "  </tbody>\n",
       "</table>\n",
       "</div>"
      ]
     },
     "execution_count": 25,
     "metadata": {},
     "output_type": "execute_result"
    }
   ],
   "execution_count": 25
  },
  {
   "metadata": {},
   "cell_type": "markdown",
   "source": "Việc một phim có thể có trùng các tag sẽ giúp chúng ta gợi ý phim hơp lý hơn vì nó sẽ hoạt động như một trọng số trong các model",
   "id": "ad0c13194f3aad30"
  },
  {
   "metadata": {
    "ExecuteTime": {
     "end_time": "2025-04-23T10:45:49.316189Z",
     "start_time": "2025-04-23T10:45:49.300580Z"
    }
   },
   "cell_type": "code",
   "source": [
    "movies = movies.merge(tags_grouped, on='movieId', how='left')\n",
    "movies['tag'] = movies['tag'].fillna(\"\") #Có thể có một phim nào đó chưa được đánh giá sẽ không có tag"
   ],
   "id": "3a65b8ec75ac7b1f",
   "outputs": [],
   "execution_count": 26
  },
  {
   "metadata": {
    "ExecuteTime": {
     "end_time": "2025-04-23T10:45:49.354103Z",
     "start_time": "2025-04-23T10:45:49.348138Z"
    }
   },
   "cell_type": "code",
   "source": "movies.head()",
   "id": "2a12d25a63a46992",
   "outputs": [
    {
     "data": {
      "text/plain": [
       "   movieId                               title  \\\n",
       "0        1                    Toy Story (1995)   \n",
       "1        2                      Jumanji (1995)   \n",
       "2        3             Grumpier Old Men (1995)   \n",
       "3        4            Waiting to Exhale (1995)   \n",
       "4        5  Father of the Bride Part II (1995)   \n",
       "\n",
       "                                        genres  avg_rating  num_votes  \\\n",
       "0  Adventure|Animation|Children|Comedy|Fantasy    3.897438    68997.0   \n",
       "1                   Adventure|Children|Fantasy    3.275758    28904.0   \n",
       "2                               Comedy|Romance    3.139447    13134.0   \n",
       "3                         Comedy|Drama|Romance    2.845331     2806.0   \n",
       "4                                       Comedy    3.059602    13154.0   \n",
       "\n",
       "                                                 tag  \n",
       "0  children Disney animation children Disney Disn...  \n",
       "1  Robin Williams fantasy Robin Williams time tra...  \n",
       "2  comedinha de velhinhos engraçada comedinha de ...  \n",
       "3  characters slurs based on novel or book chick ...  \n",
       "4  Fantasy pregnancy remake family Steve Martin s...  "
      ],
      "text/html": [
       "<div>\n",
       "<style scoped>\n",
       "    .dataframe tbody tr th:only-of-type {\n",
       "        vertical-align: middle;\n",
       "    }\n",
       "\n",
       "    .dataframe tbody tr th {\n",
       "        vertical-align: top;\n",
       "    }\n",
       "\n",
       "    .dataframe thead th {\n",
       "        text-align: right;\n",
       "    }\n",
       "</style>\n",
       "<table border=\"1\" class=\"dataframe\">\n",
       "  <thead>\n",
       "    <tr style=\"text-align: right;\">\n",
       "      <th></th>\n",
       "      <th>movieId</th>\n",
       "      <th>title</th>\n",
       "      <th>genres</th>\n",
       "      <th>avg_rating</th>\n",
       "      <th>num_votes</th>\n",
       "      <th>tag</th>\n",
       "    </tr>\n",
       "  </thead>\n",
       "  <tbody>\n",
       "    <tr>\n",
       "      <th>0</th>\n",
       "      <td>1</td>\n",
       "      <td>Toy Story (1995)</td>\n",
       "      <td>Adventure|Animation|Children|Comedy|Fantasy</td>\n",
       "      <td>3.897438</td>\n",
       "      <td>68997.0</td>\n",
       "      <td>children Disney animation children Disney Disn...</td>\n",
       "    </tr>\n",
       "    <tr>\n",
       "      <th>1</th>\n",
       "      <td>2</td>\n",
       "      <td>Jumanji (1995)</td>\n",
       "      <td>Adventure|Children|Fantasy</td>\n",
       "      <td>3.275758</td>\n",
       "      <td>28904.0</td>\n",
       "      <td>Robin Williams fantasy Robin Williams time tra...</td>\n",
       "    </tr>\n",
       "    <tr>\n",
       "      <th>2</th>\n",
       "      <td>3</td>\n",
       "      <td>Grumpier Old Men (1995)</td>\n",
       "      <td>Comedy|Romance</td>\n",
       "      <td>3.139447</td>\n",
       "      <td>13134.0</td>\n",
       "      <td>comedinha de velhinhos engraçada comedinha de ...</td>\n",
       "    </tr>\n",
       "    <tr>\n",
       "      <th>3</th>\n",
       "      <td>4</td>\n",
       "      <td>Waiting to Exhale (1995)</td>\n",
       "      <td>Comedy|Drama|Romance</td>\n",
       "      <td>2.845331</td>\n",
       "      <td>2806.0</td>\n",
       "      <td>characters slurs based on novel or book chick ...</td>\n",
       "    </tr>\n",
       "    <tr>\n",
       "      <th>4</th>\n",
       "      <td>5</td>\n",
       "      <td>Father of the Bride Part II (1995)</td>\n",
       "      <td>Comedy</td>\n",
       "      <td>3.059602</td>\n",
       "      <td>13154.0</td>\n",
       "      <td>Fantasy pregnancy remake family Steve Martin s...</td>\n",
       "    </tr>\n",
       "  </tbody>\n",
       "</table>\n",
       "</div>"
      ]
     },
     "execution_count": 27,
     "metadata": {},
     "output_type": "execute_result"
    }
   ],
   "execution_count": 27
  },
  {
   "metadata": {},
   "cell_type": "markdown",
   "source": "tạo df links, chứa các id của phim trên các web như imdb và tmdb, dùng để lấy thông tin poster của từng phim khi tạo UI",
   "id": "3d3f74385b38882c"
  },
  {
   "metadata": {
    "ExecuteTime": {
     "end_time": "2025-04-23T10:48:33.014573Z",
     "start_time": "2025-04-23T10:48:32.983926Z"
    }
   },
   "cell_type": "code",
   "source": [
    "links = pd.read_csv(os.path.join('data2', \"links.csv\"))\n",
    "movies = movies.merge(links[['movieId', 'tmdbId']], on='movieId', how='left')"
   ],
   "id": "376cec76b4d05940",
   "outputs": [],
   "execution_count": 34
  },
  {
   "metadata": {},
   "cell_type": "markdown",
   "source": "Chúng ta sẽ sử dụng các tag đã gộp để tạo ma trận TF-IDF, giúp đo lường độ tương đồng giữa các phim dựa trên nội dung của tag. Có thể xem là vừa lọc theo nội dung và vừa theo collaborative filtering vì tag là do người dùng tạo.",
   "id": "9e593ae5d871a2cd"
  },
  {
   "metadata": {
    "ExecuteTime": {
     "end_time": "2025-04-23T10:45:49.476276Z",
     "start_time": "2025-04-23T10:45:49.473151Z"
    }
   },
   "cell_type": "code",
   "source": [
    "from sklearn.feature_extraction.text import TfidfVectorizer\n",
    "from sklearn.metrics.pairwise import cosine_similarity\n",
    "import streamlit as st\n",
    "def create_tfidf_matrix(movies):\n",
    "    print(\"Bắt đầu tạo ma trận TF-IDF...\")\n",
    "    vectorizer = TfidfVectorizer(ngram_range=(1, 2))  # Sử dụng unigram và bigram\n",
    "    tfidf_matrix = vectorizer.fit_transform(movies['tag'])\n",
    "    print(\"Hoàn tất tạo ma trận TF-IDF.\")\n",
    "    return vectorizer, tfidf_matrix"
   ],
   "id": "d1f4dc26ed05a064",
   "outputs": [],
   "execution_count": 28
  },
  {
   "metadata": {},
   "cell_type": "markdown",
   "source": [
    "Chúng ta sẽ tạo ba hàm gợi ý phim:\n",
    "1. **Lọc dựa trên nội dung**: Dựa trên độ tương đồng của tag.\n",
    "2. **Lọc cộng tác**: Dựa trên sở thích của người dùng tương tự.\n",
    "3. **Lọc kết hợp**: Kết hợp cả hai phương pháp trên.\n"
   ],
   "id": "70fadb03cf8c31c2"
  },
  {
   "metadata": {},
   "cell_type": "markdown",
   "source": [
    "## Hàm Gợi Ý Dựa trên Nội Dung\n",
    "Sử dụng ma trận TF-IDF để tìm các phim có tag tương tự."
   ],
   "id": "9edc04b6765181af"
  },
  {
   "metadata": {
    "ExecuteTime": {
     "end_time": "2025-04-23T10:45:49.519293Z",
     "start_time": "2025-04-23T10:45:49.516330Z"
    }
   },
   "cell_type": "code",
   "source": [
    "def find_similar_movies_content_based(movie_id, movies, tfidf_matrix):\n",
    "    print(\"Tìm phim tương tự dựa trên tag...\")\n",
    "    movie_idx = movies[movies['movieId'] == movie_id].index[0]\n",
    "    cosine_sim = cosine_similarity(tfidf_matrix[movie_idx], tfidf_matrix).flatten()\n",
    "    similar_indices = cosine_sim.argsort()[-6:-1][::-1]  # Lấy top 5, bỏ phim gốc\n",
    "    print(\"Hoàn tất tìm phim tương tự.\")\n",
    "    return movies.iloc[similar_indices][['title', 'tmdbId']]"
   ],
   "id": "8576107396fd0914",
   "outputs": [],
   "execution_count": 29
  },
  {
   "metadata": {},
   "cell_type": "markdown",
   "source": [
    "### Hàm Gợi Ý Dựa trên Lọc Cộng Tác\n",
    "Dựa trên đánh giá của người dùng có sở thích tương tự."
   ],
   "id": "395ece2ddc5d9b7a"
  },
  {
   "metadata": {
    "ExecuteTime": {
     "end_time": "2025-04-23T10:45:49.568144Z",
     "start_time": "2025-04-23T10:45:49.564054Z"
    }
   },
   "cell_type": "code",
   "source": [
    "def find_similar_movies_collaborative(movie_id, ratings, movies):\n",
    "    print(f\"Tìm phim tương tự cho movie_id: {movie_id}...\")\n",
    "    similar_users = ratings[(ratings[\"movieId\"] == movie_id) & (ratings[\"rating\"] > 4)][\"userId\"].unique()\n",
    "    similar_user_recs = ratings[(ratings[\"userId\"].isin(similar_users)) & (ratings[\"rating\"] > 4)][\"movieId\"]\n",
    "    similar_user_recs = similar_user_recs.value_counts() / len(similar_users)\n",
    "    similar_user_recs = similar_user_recs[similar_user_recs > .1]\n",
    "\n",
    "    all_users = ratings[(ratings[\"movieId\"].isin(similar_user_recs.index)) & (ratings[\"rating\"] > 4)]\n",
    "    all_users_recs = all_users[\"movieId\"].value_counts() / len(all_users[\"userId\"].unique())\n",
    "\n",
    "    rec_percentages = pd.concat([similar_user_recs, all_users_recs], axis=1)\n",
    "    rec_percentages.columns = [\"similar\", \"all\"]\n",
    "    rec_percentages[\"score\"] = rec_percentages[\"similar\"] / rec_percentages[\"all\"]\n",
    "    rec_percentages = rec_percentages.sort_values(by=\"score\", ascending=False)\n",
    "    rec_percentages = rec_percentages[rec_percentages.index != movie_id]\n",
    "\n",
    "    print(\"Hoàn tất tìm phim tương tự.\")\n",
    "    return rec_percentages.head(5).merge(movies, left_index=True, right_on=\"movieId\")[[\"title\", \"tmdbId\"]]\n"
   ],
   "id": "ab9fb12662d2f386",
   "outputs": [],
   "execution_count": 30
  },
  {
   "metadata": {},
   "cell_type": "markdown",
   "source": [
    "## Hàm Gợi Ý Kết Hợp\n",
    "Kết hợp cả lọc dựa trên nội dung và lọc cộng tác để tạo gợi ý cân bằng."
   ],
   "id": "924497ebaa583075"
  },
  {
   "metadata": {
    "ExecuteTime": {
     "end_time": "2025-04-23T10:45:49.595192Z",
     "start_time": "2025-04-23T10:45:49.591761Z"
    }
   },
   "cell_type": "code",
   "source": [
    "def find_hybrid_recommendations(movie_id, ratings, movies, tfidf_matrix):\n",
    "    print(f\"Tìm phim tương tự bằng lọc kết hợp cho movie_id: {movie_id}...\")\n",
    "    collab_recs = find_similar_movies_collaborative(movie_id, ratings, movies).reset_index(drop=True)\n",
    "    content_recs = find_similar_movies_content_based(movie_id, movies, tfidf_matrix).reset_index(drop=True)\n",
    "    hybrid_recs = []\n",
    "    for i in range(5):\n",
    "        if i % 2 == 0 and i // 2 < len(collab_recs):\n",
    "            hybrid_recs.append(collab_recs.iloc[i // 2])\n",
    "        elif i // 2 < len(content_recs):\n",
    "            hybrid_recs.append(content_recs.iloc[i // 2])\n",
    "    hybrid_recs_df = pd.DataFrame(hybrid_recs, columns=['title', 'tmdbId'])\n",
    "    print(\"Hoàn tất tìm phim tương tự bằng lọc kết hợp.\")\n",
    "    return hybrid_recs_df"
   ],
   "id": "3f5537d253670582",
   "outputs": [],
   "execution_count": 31
  },
  {
   "metadata": {},
   "cell_type": "markdown",
   "source": [
    "## Lấy Áp Phích Phim từ TMDb\n",
    "Để tăng tính trực quan, chúng ta sẽ lấy áp phích phim từ API TMDb dựa trên tmdbId.\n"
   ],
   "id": "cb2b49c48276ee3a"
  },
  {
   "metadata": {
    "ExecuteTime": {
     "end_time": "2025-04-23T10:45:49.604316Z",
     "start_time": "2025-04-23T10:45:49.600971Z"
    }
   },
   "cell_type": "code",
   "source": [
    "import requests\n",
    "\n",
    "TMDB_API_KEY = \"ab3e3f106356dbcb70df22107bb51b09\"\n",
    "\n",
    "def get_poster_url(tmdb_id):\n",
    "    \"\"\"\n",
    "    Lấy URL áp phích phim từ TMDb.\n",
    "\n",
    "    Args:\n",
    "        tmdb_id (float): ID TMDb của phim\n",
    "\n",
    "    Returns:\n",
    "        str: URL áp phích hoặc None nếu không có\n",
    "    \"\"\"\n",
    "    if pd.isna(tmdb_id):\n",
    "        return None\n",
    "    url = f\"https://api.themoviedb.org/3/movie/{int(tmdb_id)}?api_key={TMDB_API_KEY}&language=en-US\"\n",
    "    response = requests.get(url)\n",
    "    if response.status_code == 200:\n",
    "        data = response.json()\n",
    "        poster_path = data.get('poster_path')\n",
    "        if poster_path:\n",
    "            return f\"https://image.tmdb.org/t/p/w185{poster_path}\"\n",
    "    return None\n"
   ],
   "id": "ad15abdd1584dbe0",
   "outputs": [],
   "execution_count": 32
  },
  {
   "metadata": {},
   "cell_type": "markdown",
   "source": "## Test các hàm gợi ý",
   "id": "46935a8614062c4d"
  },
  {
   "metadata": {
    "ExecuteTime": {
     "end_time": "2025-04-23T10:48:44.229272Z",
     "start_time": "2025-04-23T10:48:37.084243Z"
    }
   },
   "cell_type": "code",
   "source": [
    "vectorizer, tfidf_matrix = create_tfidf_matrix(movies)\n",
    "print(\"\\nGợi ý dựa trên nội dung cho Toy Story:\")\n",
    "print(find_similar_movies_content_based(1, movies, tfidf_matrix))\n",
    "print(\"\\nGợi ý cộng tác cho Toy Story:\")\n",
    "print(find_similar_movies_collaborative(1, ratings, movies))\n",
    "print(\"\\nGợi ý kết hợp cho Toy Story:\")\n",
    "print(find_hybrid_recommendations(1, ratings, movies, tfidf_matrix))"
   ],
   "id": "dd1c7954c0f1fc31",
   "outputs": [
    {
     "name": "stdout",
     "output_type": "stream",
     "text": [
      "Bắt đầu tạo ma trận TF-IDF...\n",
      "Hoàn tất tạo ma trận TF-IDF.\n",
      "\n",
      "Gợi ý dựa trên nội dung cho Toy Story:\n",
      "Tìm phim tương tự dựa trên tag...\n",
      "Hoàn tất tìm phim tương tự.\n",
      "                       title   tmdbId\n",
      "3021      Toy Story 2 (1999)    863.0\n",
      "2264    Bug's Life, A (1998)   9487.0\n",
      "14815     Toy Story 3 (2010)  10193.0\n",
      "4781   Monsters, Inc. (2001)    585.0\n",
      "6259     Finding Nemo (2003)     12.0\n",
      "\n",
      "Gợi ý cộng tác cho Toy Story:\n",
      "Tìm phim tương tự cho movie_id: 1...\n",
      "Hoàn tất tìm phim tương tự.\n",
      "                       title   tmdbId\n",
      "3021      Toy Story 2 (1999)    863.0\n",
      "2264    Bug's Life, A (1998)   9487.0\n",
      "14815     Toy Story 3 (2010)  10193.0\n",
      "4781   Monsters, Inc. (2001)    585.0\n",
      "580           Aladdin (1992)    812.0\n",
      "\n",
      "Gợi ý kết hợp cho Toy Story:\n",
      "Tìm phim tương tự bằng lọc kết hợp cho movie_id: 1...\n",
      "Tìm phim tương tự cho movie_id: 1...\n",
      "Hoàn tất tìm phim tương tự.\n",
      "Tìm phim tương tự dựa trên tag...\n",
      "Hoàn tất tìm phim tương tự.\n",
      "Hoàn tất tìm phim tương tự bằng lọc kết hợp.\n",
      "                  title   tmdbId\n",
      "0    Toy Story 2 (1999)    863.0\n",
      "0    Toy Story 2 (1999)    863.0\n",
      "1  Bug's Life, A (1998)   9487.0\n",
      "1  Bug's Life, A (1998)   9487.0\n",
      "2    Toy Story 3 (2010)  10193.0\n"
     ]
    }
   ],
   "execution_count": 35
  },
  {
   "metadata": {},
   "cell_type": "code",
   "outputs": [],
   "execution_count": null,
   "source": "",
   "id": "5d2e804dca2dc3ca"
  }
 ],
 "metadata": {
  "kernelspec": {
   "display_name": "Python 3",
   "language": "python",
   "name": "python3"
  },
  "language_info": {
   "codemirror_mode": {
    "name": "ipython",
    "version": 2
   },
   "file_extension": ".py",
   "mimetype": "text/x-python",
   "name": "python",
   "nbconvert_exporter": "python",
   "pygments_lexer": "ipython2",
   "version": "2.7.6"
  }
 },
 "nbformat": 4,
 "nbformat_minor": 5
}
